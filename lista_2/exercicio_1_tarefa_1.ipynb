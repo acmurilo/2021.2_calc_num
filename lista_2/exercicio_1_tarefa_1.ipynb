{
 "cells": [
  {
   "cell_type": "code",
   "execution_count": 26,
   "source": [
    "import numpy as np\r\n",
    "#definição das funções\r\n",
    "\r\n",
    "#fatorial\r\n",
    "def fac(n):\r\n",
    "    fac = 1\r\n",
    "    for i in range(1, n+1):\r\n",
    "        fac = fac*i\r\n",
    "    return fac\r\n",
    "\r\n",
    "#binomial\r\n",
    "def binom(a, b):\r\n",
    "    binom = 1\r\n",
    "    binom = (fac(a))/(fac(a-b)*fac(b))\r\n",
    "    return binom\r\n",
    "\r\n",
    "#polinomio de legendre\r\n",
    "def legendre(j):\r\n",
    "    legendre = 0\r\n",
    "    for i in range(0, j+1):\r\n",
    "        termos = [binom(j, i), binom(j+i, i), ((x-1)/2)**i]\r\n",
    "        exp = np.prod(termos)\r\n",
    "        legendre += exp\r\n",
    "    print(f'P{j} = {legendre}')\r\n",
    "\r\n",
    "#definição dos parâmetros\r\n",
    "k = 10\r\n",
    "x = 0.7688\r\n",
    "\r\n",
    "#iterações para os polinômios\r\n",
    "for j in range(0, k):\r\n",
    "    legendre(j)"
   ],
   "outputs": [
    {
     "output_type": "stream",
     "name": "stdout",
     "text": [
      "P0 = 1.0\n",
      "P1 = 0.7688\n",
      "P2 = 0.38658016000000006\n",
      "P3 = -0.017195288319999863\n",
      "P4 = -0.3130696609057276\n",
      "P5 = -0.4194820888917828\n",
      "P6 = -0.3303546374685648\n",
      "P7 = -0.11211483648073199\n",
      "P8 = 0.1274467709980197\n",
      "P9 = 0.28473300112016964\n"
     ]
    }
   ],
   "metadata": {}
  }
 ],
 "metadata": {
  "orig_nbformat": 4,
  "language_info": {
   "name": "python",
   "version": "3.7.4",
   "mimetype": "text/x-python",
   "codemirror_mode": {
    "name": "ipython",
    "version": 3
   },
   "pygments_lexer": "ipython3",
   "nbconvert_exporter": "python",
   "file_extension": ".py"
  },
  "kernelspec": {
   "name": "python3",
   "display_name": "Python 3.7.4 64-bit"
  },
  "interpreter": {
   "hash": "8fec705d4f75e23a2368e48a2ad90d2814d69442573799457edc21c318b324c9"
  }
 },
 "nbformat": 4,
 "nbformat_minor": 2
}