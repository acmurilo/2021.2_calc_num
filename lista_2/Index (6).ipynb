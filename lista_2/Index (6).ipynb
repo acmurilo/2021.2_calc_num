{
 "cells": [
  {
   "cell_type": "markdown",
   "metadata": {},
   "source": [
    "# Welcome to Jupyter!"
   ]
  },
  {
   "cell_type": "markdown",
   "metadata": {},
   "source": [
    "Exercício 1\n",
    "Tarefa 1"
   ]
  },
  {
   "cell_type": "code",
   "execution_count": 1,
   "metadata": {},
   "outputs": [],
   "source": [
    "from math import factorial as fac\n",
    "from math import sin, cos, pi, log10"
   ]
  },
  {
   "cell_type": "code",
   "execution_count": 2,
   "metadata": {},
   "outputs": [],
   "source": [
    "def r(x):\n",
    "    return -pi**2*(sin(pi*x) + cos(pi*x))"
   ]
  },
  {
   "cell_type": "code",
   "execution_count": 3,
   "metadata": {},
   "outputs": [],
   "source": [
    "def binom(a, b):\n",
    "    return fac(a)/(fac(b)*fac(a - b))"
   ]
  },
  {
   "cell_type": "code",
   "execution_count": 4,
   "metadata": {},
   "outputs": [],
   "source": [
    "def legendre_pol(index, x):\n",
    "    return sum([binom(index, i)*binom(index+i, i)*((x - 1)/2)**i for i in range(index+1)])"
   ]
  },
  {
   "cell_type": "code",
   "execution_count": 5,
   "metadata": {},
   "outputs": [
    {
     "name": "stdout",
     "output_type": "stream",
     "text": [
      "P_0 = 1.0\n",
      "P_1 = 0.7688\n",
      "P_2 = 0.38658016000000006\n",
      "P_3 = -0.017195288319999863\n",
      "P_4 = -0.3130696609057276\n",
      "P_5 = -0.4194820888917828\n",
      "P_6 = -0.3303546374685648\n",
      "P_7 = -0.11211483648073199\n",
      "P_8 = 0.1274467709980197\n",
      "P_9 = 0.28473300112016964\n",
      "P_10 = 0.30121309549804387\n"
     ]
    }
   ],
   "source": [
    "x_given = 0.7688\n",
    "for i in range(0, 11):\n",
    "    print(f'P_{i} = {legendre_pol(i, x_given)}')"
   ]
  },
  {
   "cell_type": "markdown",
   "metadata": {},
   "source": [
    "Exercício 1 \n",
    "Tarefa 2\n",
    "Item 1"
   ]
  },
  {
   "cell_type": "code",
   "execution_count": 6,
   "metadata": {},
   "outputs": [],
   "source": [
    "def integral_trapezoidal(f, a, b, n):\n",
    "    h = float(b - a) / n\n",
    "    s = 0.0\n",
    "    s += f(a)/2.0\n",
    "    for i in range(1, n):\n",
    "        s += f(a + i*h)\n",
    "    s += f(b)/2.0\n",
    "    return s * h"
   ]
  },
  {
   "cell_type": "code",
   "execution_count": 7,
   "metadata": {},
   "outputs": [],
   "source": [
    "initial = -1\n",
    "final = 1\n",
    "num_divs = 10000\n",
    "\n",
    "def get_alfa(k, num_divs = 10000):\n",
    "    return (2*k - 1)/2*integral_trapezoidal(lambda x: r(x)*legendre_pol(k-1, x), initial, final, num_divs)"
   ]
  },
  {
   "cell_type": "code",
   "execution_count": 8,
   "metadata": {},
   "outputs": [
    {
     "name": "stdout",
     "output_type": "stream",
     "text": [
      "α_1 = 4.621192317699751e-16\n",
      "α_2 = -9.424777650706595\n",
      "α_3 = 15.000000493480254\n",
      "α_4 = 11.431390197649232\n",
      "α_5 = -5.748515581127785\n",
      "α_6 = -2.1642999434215944\n",
      "α_7 = 0.6525329066146618\n",
      "α_8 = 0.16425414113053774\n",
      "α_9 = -0.03549414764834449\n"
     ]
    }
   ],
   "source": [
    "for i in range(1, 10):\n",
    "    print(f'α_{i} = {get_alfa(i)}')"
   ]
  },
  {
   "cell_type": "markdown",
   "metadata": {},
   "source": [
    "Exercício 1\n",
    "Tarefa 2\n",
    "Item 2"
   ]
  },
  {
   "cell_type": "code",
   "execution_count": 9,
   "metadata": {},
   "outputs": [],
   "source": [
    "def legendre_2_linhas(index, x):\n",
    "    return sum([binom(index, i)*binom(index+i, i)*((x - 1)/2)**(i + 2)*4/((i+1)*(i+2)) for i in range(index+1)])"
   ]
  },
  {
   "cell_type": "code",
   "execution_count": 10,
   "metadata": {},
   "outputs": [],
   "source": [
    "def F_grande(x, k):\n",
    "    return sum([get_alfa(i)*legendre_2_linhas(i-1, x) for i in range(1,k+1)])"
   ]
  },
  {
   "cell_type": "code",
   "execution_count": 11,
   "metadata": {},
   "outputs": [],
   "source": [
    "def G_k(x, k):\n",
    "    return F_grande(x, k) + (-1 - F_grande(-1, k))*(1 - x)/2 + (-1 - F_grande(1, k))*(x + 1)/2"
   ]
  },
  {
   "cell_type": "code",
   "execution_count": 12,
   "metadata": {},
   "outputs": [
    {
     "name": "stdout",
     "output_type": "stream",
     "text": [
      "G_4(-1) = -1.0\n",
      "G_4(-0.7) = -1.3332509058335167\n",
      "G_4(0) = 0.8750000616850317\n",
      "G_4(0.3) = 1.336502467538775\n",
      "G_4(1) = -1.0\n"
     ]
    }
   ],
   "source": [
    "for i in [-1, -.7, 0, .3, 1]:\n",
    "    print(f'G_4({i}) = {G_k(i, 4)}')"
   ]
  },
  {
   "cell_type": "code",
   "execution_count": 13,
   "metadata": {},
   "outputs": [
    {
     "name": "stdout",
     "output_type": "stream",
     "text": [
      "G_7(-1) = -1.0\n",
      "G_7(-0.7) = -1.3972325326982244\n",
      "G_7(0) = 0.9998587162914496\n",
      "G_7(0.3) = 1.3962393621197444\n",
      "G_7(1) = -1.0\n"
     ]
    }
   ],
   "source": [
    "for i in [-1, -.7, 0, .3, 1]:\n",
    "    print(f'G_7({i}) = {G_k(i, 7)}')"
   ]
  },
  {
   "cell_type": "markdown",
   "metadata": {},
   "source": [
    "Exercício 1\n",
    "Tarefa 2\n",
    "Item 3"
   ]
  },
  {
   "cell_type": "code",
   "execution_count": 14,
   "metadata": {},
   "outputs": [],
   "source": [
    "import numpy as np"
   ]
  },
  {
   "cell_type": "code",
   "execution_count": 15,
   "metadata": {},
   "outputs": [],
   "source": [
    "k_max_erro = 30\n",
    "k_min_erro = 2\n",
    "alfas = {\n",
    "    'trapezoidal': {\n",
    "        'm10^4': np.array([get_alfa(i) for i in range(1, k_max_erro+2)]),\n",
    "        'm10^5': np.array([get_alfa(i, 100000) for i in range(1, k_max_erro+2)])\n",
    "    }\n",
    "}"
   ]
  },
  {
   "cell_type": "code",
   "execution_count": 16,
   "metadata": {},
   "outputs": [],
   "source": [
    "num_subintervalos = 10117\n",
    "subintervalos_x = np.array([initial + i*(final - initial)/num_subintervalos for i in range(num_subintervalos+1)])"
   ]
  },
  {
   "cell_type": "code",
   "execution_count": 17,
   "metadata": {},
   "outputs": [],
   "source": [
    "y_of_x_exato = np.sin(np.pi*subintervalos_x) + np.cos(np.pi*subintervalos_x)"
   ]
  },
  {
   "cell_type": "code",
   "execution_count": 18,
   "metadata": {},
   "outputs": [],
   "source": [
    "def F_grande_otimizado(x, k, alfa_vec):\n",
    "    ints_legendre = np.array([legendre_2_linhas(i-1, x) for i in range(1,k+1)])\n",
    "    return np.sum(alfa_vec[:k]*ints_legendre)"
   ]
  },
  {
   "cell_type": "code",
   "execution_count": 19,
   "metadata": {},
   "outputs": [],
   "source": [
    "def G_k_otimizado(x, k, alfa_vec):\n",
    "    return F_grande_otimizado(x, k, alfa_vec) + (-1 - F_grande_otimizado(-1, k, alfa_vec))*(1 - x)/2 + (-1 - F_grande_otimizado(1, k, alfa_vec))*(x + 1)/2"
   ]
  },
  {
   "cell_type": "code",
   "execution_count": 20,
   "metadata": {},
   "outputs": [],
   "source": [
    "erros_m_k = {\n",
    "    \"trapezio\": {\n",
    "        \"m10^4\": [],\n",
    "        \"m10^5\": [],\n",
    "    },\n",
    "    \"simpson\": {\n",
    "        \"m10^5\": []\n",
    "    }\n",
    "}"
   ]
  },
  {
   "cell_type": "code",
   "execution_count": 21,
   "metadata": {},
   "outputs": [
    {
     "name": "stdout",
     "output_type": "stream",
     "text": [
      "E_2 = 0.46592651878431646\n",
      "E_3 = 0.12912437628181284\n",
      "E_4 = 0.026908477291985977\n",
      "E_5 = 0.0053396843246762415\n",
      "E_6 = 0.0009090280624887148\n",
      "E_7 = 0.00014303110784186224\n",
      "E_8 = 2.0263925892660684e-05\n",
      "E_9 = 2.6573173446120535e-06\n",
      "E_10 = 3.5305506806970754e-07\n",
      "E_11 = 6.40173428712032e-08\n",
      "E_12 = 8.180755894926506e-08\n",
      "E_13 = 8.179986776823966e-08\n",
      "E_14 = 8.54146604556405e-08\n",
      "E_15 = 8.54125279392548e-08\n",
      "E_16 = 9.163093039887826e-08\n",
      "E_17 = 1.1664459220739332e-07\n",
      "E_18 = 1.47313724996323e-07\n",
      "E_19 = 3.7749982473300747e-07\n",
      "E_20 = 3.286126595281047e-06\n",
      "E_21 = 7.948200134277883e-06\n",
      "E_22 = 0.0010756382054251112\n",
      "E_23 = 0.01409043708730029\n",
      "E_24 = 22.155256507026994\n",
      "E_25 = 570.2819041079003\n",
      "E_26 = 35359.7727102387\n",
      "E_27 = 406602.79273860244\n",
      "E_28 = 24181296.86367686\n",
      "E_29 = 636142829.7145782\n",
      "E_30 = 30688537033.548386\n"
     ]
    }
   ],
   "source": [
    "# trapezoidal para m = 10^4\n",
    "for k in range(k_min_erro, k_max_erro+1):\n",
    "    G_k = np.array([G_k_otimizado(i, k+1, alfas['trapezoidal']['m10^4']) for i in subintervalos_x])\n",
    "    erros_m_k['trapezio']['m10^4'].append({'k': k, 'erro': max(np.abs(y_of_x_exato - G_k))})\n",
    "    print(f'E_{k} = {max(np.abs(y_of_x_exato - G_k))}')"
   ]
  },
  {
   "cell_type": "markdown",
   "metadata": {},
   "source": [
    "Exercício 1 \n",
    "Tarefa 3 \n",
    "Item 1"
   ]
  },
  {
   "cell_type": "code",
   "execution_count": 22,
   "metadata": {},
   "outputs": [
    {
     "name": "stdout",
     "output_type": "stream",
     "text": [
      "E_2 = 0.4659264645443688\n",
      "E_3 = 0.12912443912721372\n",
      "E_4 = 0.026908451108702436\n",
      "E_5 = 0.005339683753535329\n",
      "E_6 = 0.0009089939546561565\n",
      "E_7 = 0.00014310075977785885\n",
      "E_8 = 2.0230785041652766e-05\n",
      "E_9 = 2.6488828452908564e-06\n",
      "E_10 = 3.1898339586389213e-07\n",
      "E_11 = 3.49643187735893e-08\n",
      "E_12 = 4.117247875967678e-09\n",
      "E_13 = 1.1713252590084267e-09\n",
      "E_14 = 9.251731603043822e-10\n",
      "E_15 = 9.236468256901276e-10\n",
      "E_16 = 2.084169503646649e-09\n",
      "E_17 = 5.393984925383677e-09\n",
      "E_18 = 3.455412822539472e-08\n",
      "E_19 = 1.469955737132267e-07\n",
      "E_20 = 4.06282236742328e-07\n",
      "E_21 = 3.1406752970752905e-05\n",
      "E_22 = 0.00019478657379212727\n",
      "E_23 = 0.02336954546584491\n",
      "E_24 = 20.296164466740635\n",
      "E_25 = 558.2423751785165\n",
      "E_26 = 35898.25891033959\n",
      "E_27 = 471753.4791561888\n",
      "E_28 = 22986211.804461557\n",
      "E_29 = 578430699.5353423\n",
      "E_30 = 32100853193.84539\n"
     ]
    }
   ],
   "source": [
    "# trapezoidal para m = 10^5\n",
    "for k in range(k_min_erro, k_max_erro+1):\n",
    "    G_k = np.array([G_k_otimizado(i, k+1, alfas['trapezoidal']['m10^5']) for i in subintervalos_x])\n",
    "    erros_m_k['trapezio']['m10^5'].append({'k': k, 'erro': max(np.abs(y_of_x_exato - G_k))})\n",
    "    print(f'E_{k} = {max(np.abs(y_of_x_exato - G_k))}')"
   ]
  },
  {
   "cell_type": "markdown",
   "metadata": {},
   "source": [
    "Exercício 1 \n",
    "Tarefa 3\n",
    "Item 2"
   ]
  },
  {
   "cell_type": "code",
   "execution_count": 23,
   "metadata": {},
   "outputs": [],
   "source": [
    "def simpson(f, a, b, n):\n",
    "    h = float(b - a) / n\n",
    "    s = 0.0\n",
    "    s += f(a)/3.0\n",
    "    for i in range(1, n, 2):\n",
    "        s += (4/3)*f(a + i*h)\n",
    "    for i in range(2, n, 2):\n",
    "        s += (2/3)*f(a + i*h)\n",
    "    s += f(b)/3.0\n",
    "    return s * h"
   ]
  },
  {
   "cell_type": "code",
   "execution_count": 24,
   "metadata": {},
   "outputs": [],
   "source": [
    "def get_alfa_simpson(k, num_divs = 100000):\n",
    "    return (2*k - 1)/2*simpson(lambda x: r(x)*legendre_pol(k-1, x), initial, final, num_divs)"
   ]
  },
  {
   "cell_type": "code",
   "execution_count": 25,
   "metadata": {},
   "outputs": [],
   "source": [
    "alfas['simpson'] = {'m10^5': np.array([get_alfa_simpson(i) for i in range(1, k_max_erro+2)])}"
   ]
  },
  {
   "cell_type": "code",
   "execution_count": 26,
   "metadata": {},
   "outputs": [
    {
     "name": "stdout",
     "output_type": "stream",
     "text": [
      "E_2 = 0.4659264639964724\n",
      "E_3 = 0.12912443976203702\n",
      "E_4 = 0.026908450844204235\n",
      "E_5 = 0.005339683747789259\n",
      "E_6 = 0.0009089936101108753\n",
      "E_7 = 0.00014310146335549945\n",
      "E_8 = 2.023045039911686e-05\n",
      "E_9 = 2.6487976720890316e-06\n",
      "E_10 = 3.186699403245896e-07\n",
      "E_11 = 3.57451670485176e-08\n",
      "E_12 = 3.736309150959016e-09\n",
      "E_13 = 3.710391993649864e-10\n",
      "E_14 = 7.363731846510291e-11\n",
      "E_15 = 7.241496291499061e-11\n",
      "E_16 = 2.7530165924716243e-09\n",
      "E_17 = 4.417372301279698e-09\n",
      "E_18 = 4.106883810806039e-08\n",
      "E_19 = 1.3575225277229208e-07\n",
      "E_20 = 3.705187689995171e-07\n",
      "E_21 = 2.773243848164242e-05\n",
      "E_22 = 0.00015433118016772163\n",
      "E_23 = 0.01834236333715933\n",
      "E_24 = 20.662625710410477\n",
      "E_25 = 553.7962969555015\n",
      "E_26 = 35938.55778544909\n",
      "E_27 = 479080.26249013096\n",
      "E_28 = 22791220.80856805\n",
      "E_29 = 573551310.3579627\n",
      "E_30 = 32399766647.171005\n"
     ]
    }
   ],
   "source": [
    "# simpson para m = 10^5\n",
    "for k in range(k_min_erro, k_max_erro+1):\n",
    "    G_k = np.array([G_k_otimizado(i, k+1, alfas['simpson']['m10^5']) for i in subintervalos_x])\n",
    "    erros_m_k['simpson']['m10^5'].append({'k': k, 'erro': max(np.abs(y_of_x_exato - G_k))})\n",
    "    print(f'E_{k} = {max(np.abs(y_of_x_exato - G_k))}')"
   ]
  },
  {
   "cell_type": "markdown",
   "metadata": {},
   "source": [
    "Exercício 1\n",
    "Tarefa 3\n",
    "Item 3"
   ]
  },
  {
   "cell_type": "code",
   "execution_count": 27,
   "metadata": {},
   "outputs": [],
   "source": [
    "%matplotlib inline\n",
    "from matplotlib import pyplot as plt"
   ]
  },
  {
   "cell_type": "code",
   "execution_count": 28,
   "metadata": {},
   "outputs": [
    {
     "data": {
      "image/png": "[encoded data removed]",
      "text/plain": [
       "<Figure size 432x288 with 1 Axes>"
      ]
     },
     "metadata": {
      "needs_background": "light"
     },
     "output_type": "display_data"
    }
   ],
   "source": [
    "ks = list(map(lambda x: x.get('k'), erros_m_k['trapezio']['m10^4']))\n",
    "erros_trap_10_4 = list(map(lambda x: log10(x.get('erro')), erros_m_k['trapezio']['m10^4']))\n",
    "erros_trap_10_5 = list(map(lambda x: log10(x.get('erro')), erros_m_k['trapezio']['m10^5']))\n",
    "erros_simp_10_5 = list(map(lambda x: log10(x.get('erro')), erros_m_k['simpson']['m10^5']))\n",
    "plt.plot(ks,erros_trap_10_4, label='Trapezoidal, m=10^4') \n",
    "plt.plot(ks,erros_trap_10_5, label='Trapezoidal, m=10^5') \n",
    "plt.plot(ks,erros_simp_10_5, label='Simpson, m=10^5') \n",
    "plt.legend()\n",
    "plt.show()"
   ]
  },
  {
   "cell_type": "code",
   "execution_count": 29,
   "metadata": {},
   "outputs": [
    {
     "data": {
      "text/plain": [
       "{'trapezio': {'m10^4': [{'k': 2, 'erro': 0.46592651878431646},\n",
       "   {'k': 3, 'erro': 0.12912437628181284},\n",
       "   {'k': 4, 'erro': 0.026908477291985977},\n",
       "   {'k': 5, 'erro': 0.0053396843246762415},\n",
       "   {'k': 6, 'erro': 0.0009090280624887148},\n",
       "   {'k': 7, 'erro': 0.00014303110784186224},\n",
       "   {'k': 8, 'erro': 2.0263925892660684e-05},\n",
       "   {'k': 9, 'erro': 2.6573173446120535e-06},\n",
       "   {'k': 10, 'erro': 3.5305506806970754e-07},\n",
       "   {'k': 11, 'erro': 6.40173428712032e-08},\n",
       "   {'k': 12, 'erro': 8.180755894926506e-08},\n",
       "   {'k': 13, 'erro': 8.179986776823966e-08},\n",
       "   {'k': 14, 'erro': 8.54146604556405e-08},\n",
       "   {'k': 15, 'erro': 8.54125279392548e-08},\n",
       "   {'k': 16, 'erro': 9.163093039887826e-08},\n",
       "   {'k': 17, 'erro': 1.1664459220739332e-07},\n",
       "   {'k': 18, 'erro': 1.47313724996323e-07},\n",
       "   {'k': 19, 'erro': 3.7749982473300747e-07},\n",
       "   {'k': 20, 'erro': 3.286126595281047e-06},\n",
       "   {'k': 21, 'erro': 7.948200134277883e-06},\n",
       "   {'k': 22, 'erro': 0.0010756382054251112},\n",
       "   {'k': 23, 'erro': 0.01409043708730029},\n",
       "   {'k': 24, 'erro': 22.155256507026994},\n",
       "   {'k': 25, 'erro': 570.2819041079003},\n",
       "   {'k': 26, 'erro': 35359.7727102387},\n",
       "   {'k': 27, 'erro': 406602.79273860244},\n",
       "   {'k': 28, 'erro': 24181296.86367686},\n",
       "   {'k': 29, 'erro': 636142829.7145782},\n",
       "   {'k': 30, 'erro': 30688537033.548386}],\n",
       "  'm10^5': [{'k': 2, 'erro': 0.4659264645443688},\n",
       "   {'k': 3, 'erro': 0.12912443912721372},\n",
       "   {'k': 4, 'erro': 0.026908451108702436},\n",
       "   {'k': 5, 'erro': 0.005339683753535329},\n",
       "   {'k': 6, 'erro': 0.0009089939546561565},\n",
       "   {'k': 7, 'erro': 0.00014310075977785885},\n",
       "   {'k': 8, 'erro': 2.0230785041652766e-05},\n",
       "   {'k': 9, 'erro': 2.6488828452908564e-06},\n",
       "   {'k': 10, 'erro': 3.1898339586389213e-07},\n",
       "   {'k': 11, 'erro': 3.49643187735893e-08},\n",
       "   {'k': 12, 'erro': 4.117247875967678e-09},\n",
       "   {'k': 13, 'erro': 1.1713252590084267e-09},\n",
       "   {'k': 14, 'erro': 9.251731603043822e-10},\n",
       "   {'k': 15, 'erro': 9.236468256901276e-10},\n",
       "   {'k': 16, 'erro': 2.084169503646649e-09},\n",
       "   {'k': 17, 'erro': 5.393984925383677e-09},\n",
       "   {'k': 18, 'erro': 3.455412822539472e-08},\n",
       "   {'k': 19, 'erro': 1.469955737132267e-07},\n",
       "   {'k': 20, 'erro': 4.06282236742328e-07},\n",
       "   {'k': 21, 'erro': 3.1406752970752905e-05},\n",
       "   {'k': 22, 'erro': 0.00019478657379212727},\n",
       "   {'k': 23, 'erro': 0.02336954546584491},\n",
       "   {'k': 24, 'erro': 20.296164466740635},\n",
       "   {'k': 25, 'erro': 558.2423751785165},\n",
       "   {'k': 26, 'erro': 35898.25891033959},\n",
       "   {'k': 27, 'erro': 471753.4791561888},\n",
       "   {'k': 28, 'erro': 22986211.804461557},\n",
       "   {'k': 29, 'erro': 578430699.5353423},\n",
       "   {'k': 30, 'erro': 32100853193.84539}]},\n",
       " 'simpson': {'m10^5': [{'k': 2, 'erro': 0.4659264639964724},\n",
       "   {'k': 3, 'erro': 0.12912443976203702},\n",
       "   {'k': 4, 'erro': 0.026908450844204235},\n",
       "   {'k': 5, 'erro': 0.005339683747789259},\n",
       "   {'k': 6, 'erro': 0.0009089936101108753},\n",
       "   {'k': 7, 'erro': 0.00014310146335549945},\n",
       "   {'k': 8, 'erro': 2.023045039911686e-05},\n",
       "   {'k': 9, 'erro': 2.6487976720890316e-06},\n",
       "   {'k': 10, 'erro': 3.186699403245896e-07},\n",
       "   {'k': 11, 'erro': 3.57451670485176e-08},\n",
       "   {'k': 12, 'erro': 3.736309150959016e-09},\n",
       "   {'k': 13, 'erro': 3.710391993649864e-10},\n",
       "   {'k': 14, 'erro': 7.363731846510291e-11},\n",
       "   {'k': 15, 'erro': 7.241496291499061e-11},\n",
       "   {'k': 16, 'erro': 2.7530165924716243e-09},\n",
       "   {'k': 17, 'erro': 4.417372301279698e-09},\n",
       "   {'k': 18, 'erro': 4.106883810806039e-08},\n",
       "   {'k': 19, 'erro': 1.3575225277229208e-07},\n",
       "   {'k': 20, 'erro': 3.705187689995171e-07},\n",
       "   {'k': 21, 'erro': 2.773243848164242e-05},\n",
       "   {'k': 22, 'erro': 0.00015433118016772163},\n",
       "   {'k': 23, 'erro': 0.01834236333715933},\n",
       "   {'k': 24, 'erro': 20.662625710410477},\n",
       "   {'k': 25, 'erro': 553.7962969555015},\n",
       "   {'k': 26, 'erro': 35938.55778544909},\n",
       "   {'k': 27, 'erro': 479080.26249013096},\n",
       "   {'k': 28, 'erro': 22791220.80856805},\n",
       "   {'k': 29, 'erro': 573551310.3579627},\n",
       "   {'k': 30, 'erro': 32399766647.171005}]}}"
      ]
     },
     "execution_count": 29,
     "metadata": {},
     "output_type": "execute_result"
    }
   ],
   "source": [
    "erros_m_k"
   ]
  },
  {
   "cell_type": "markdown",
   "metadata": {},
   "source": [
    "Exercício 1\n",
    "Tarefa 4\n",
    "Item 1"
   ]
  },
  {
   "cell_type": "code",
   "execution_count": 95,
   "metadata": {},
   "outputs": [],
   "source": [
    "import pandas as pd"
   ]
  },
  {
   "cell_type": "code",
   "execution_count": 96,
   "metadata": {},
   "outputs": [
    {
     "name": "stdout",
     "output_type": "stream",
     "text": [
      "Matriz dos coeficientes:\n",
      "              0             1             2             3             4   \\\n",
      "0   1.500000e+01  1.350000e+02  2.235000e+03  4.603500e+04  1.061230e+06   \n",
      "1   1.350000e+02  1.495000e+03  2.767500e+04  6.073750e+05  1.457721e+07   \n",
      "2   2.235000e+03  2.767500e+04  5.464170e+05  1.248952e+07  3.082432e+08   \n",
      "3   4.603500e+04  6.073750e+05  1.248952e+07  2.935504e+08  7.393631e+09   \n",
      "4   1.061230e+06  1.457721e+07  3.082432e+08  7.393631e+09  1.891219e+11   \n",
      "5   2.620215e+07  3.700427e+08  7.985626e+09  1.945283e+11  5.036516e+12   \n",
      "6   6.775273e+08  9.764074e+09  2.139956e+11  5.276463e+12  1.379505e+14   \n",
      "7   1.811082e+10  2.650492e+11  5.879896e+12  1.464000e+14  3.858280e+15   \n",
      "8   4.963744e+11  7.352645e+12  1.647116e+14  4.133980e+15  1.096771e+17   \n",
      "9   1.387223e+13  2.074915e+14  4.685506e+15  1.183848e+17  3.158563e+18   \n",
      "10  3.937871e+14  5.937143e+15  1.349681e+17  3.429392e+18  9.193931e+19   \n",
      "11  1.132193e+16  1.718396e+17  3.928487e+18  1.003002e+20  2.700164e+21   \n",
      "12  3.289982e+17  5.021524e+18  1.153533e+20  2.957406e+21  7.990407e+22   \n",
      "13  9.646326e+18  1.479411e+20  3.412628e+21  8.780916e+22  2.379983e+24   \n",
      "14  2.850095e+20  4.389202e+21  1.016148e+23  2.622913e+24  7.129048e+25   \n",
      "15  8.476788e+21  1.310157e+23  3.042788e+24  7.876125e+25  2.146036e+27   \n",
      "\n",
      "              5             6             7             8             9   \\\n",
      "0   2.620215e+07  6.775273e+08  1.811082e+10  4.963744e+11  1.387223e+13   \n",
      "1   3.700427e+08  9.764074e+09  2.650492e+11  7.352645e+12  2.074915e+14   \n",
      "2   7.985626e+09  2.139956e+11  5.879896e+12  1.647116e+14  4.685506e+15   \n",
      "3   1.945283e+11  5.276463e+12  1.464000e+14  4.133980e+15  1.183848e+17   \n",
      "4   5.036516e+12  1.379505e+14  3.858280e+15  1.096771e+17  3.158563e+18   \n",
      "5   1.354414e+14  3.739527e+15  1.052887e+17  3.009886e+18  8.709921e+19   \n",
      "6   3.739527e+15  1.039385e+17  2.942984e+18  8.453691e+19  2.456487e+21   \n",
      "7   1.052887e+17  2.942984e+18  8.373162e+19  2.415194e+21  7.043520e+22   \n",
      "8   3.009886e+18  8.453691e+19  2.415194e+21  6.991721e+22  2.045492e+24   \n",
      "9   8.709921e+19  2.456487e+21  7.043520e+22  2.045492e+24  6.001022e+25   \n",
      "10  2.545833e+21  7.206093e+22  2.072770e+24  6.036327e+25  1.775320e+27   \n",
      "11  7.503925e+22  2.130759e+24  6.146096e+25  1.794310e+27  5.288850e+28   \n",
      "12  2.227631e+24  6.343118e+25  1.834190e+27  5.366637e+28  1.584985e+30   \n",
      "13  6.653679e+25  1.899319e+27  5.504262e+28  1.613676e+30  4.774321e+31   \n",
      "14  1.998003e+27  5.715997e+28  1.659787e+30  4.874634e+31  1.444555e+33   \n",
      "15  6.027834e+28  1.727891e+30  5.026309e+31  1.478548e+33  4.387914e+34   \n",
      "\n",
      "              10            11            12            13            14  \\\n",
      "0   3.937871e+14  1.132193e+16  3.289982e+17  9.646326e+18  2.850095e+20   \n",
      "1   5.937143e+15  1.718396e+17  5.021524e+18  1.479411e+20  4.389202e+21   \n",
      "2   1.349681e+17  3.928487e+18  1.153533e+20  3.412628e+21  1.016148e+23   \n",
      "3   3.429392e+18  1.003002e+20  2.957406e+21  8.780916e+22  2.622913e+24   \n",
      "4   9.193931e+19  2.700164e+21  7.990407e+22  2.379983e+24  7.129048e+25   \n",
      "5   2.545833e+21  7.503925e+22  2.227631e+24  6.653679e+25  1.998003e+27   \n",
      "6   7.206093e+22  2.130759e+24  6.343118e+25  1.899319e+27  5.715997e+28   \n",
      "7   2.072770e+24  6.146096e+25  1.834190e+27  5.504262e+28  1.659787e+30   \n",
      "8   6.036327e+25  1.794310e+27  5.366637e+28  1.613676e+30  4.874634e+31   \n",
      "9   1.775320e+27  5.288850e+28  1.584985e+30  4.774321e+31  1.444555e+33   \n",
      "10  5.263661e+28  1.571201e+30  4.717023e+31  1.423152e+33  4.312253e+34   \n",
      "11  1.571201e+30  4.698376e+31  1.412800e+33  4.268690e+34  1.295149e+36   \n",
      "12  4.717023e+31  1.412800e+33  4.254460e+34  1.287154e+36  3.909997e+37   \n",
      "13  1.423152e+33  4.268690e+34  1.287154e+36  3.898857e+37  1.185654e+39   \n",
      "14  4.312253e+34  1.295149e+36  3.909997e+37  1.185654e+39  3.609218e+40   \n",
      "15  1.311597e+36  3.944000e+37  1.191979e+39  3.618131e+40  1.102394e+42   \n",
      "\n",
      "              15  \n",
      "0   8.476788e+21  \n",
      "1   1.310157e+23  \n",
      "2   3.042788e+24  \n",
      "3   7.876125e+25  \n",
      "4   2.146036e+27  \n",
      "5   6.027834e+28  \n",
      "6   1.727891e+30  \n",
      "7   5.026309e+31  \n",
      "8   1.478548e+33  \n",
      "9   4.387914e+34  \n",
      "10  1.311597e+36  \n",
      "11  3.944000e+37  \n",
      "12  1.191979e+39  \n",
      "13  3.618131e+40  \n",
      "14  1.102394e+42  \n",
      "15  3.369964e+43  \n",
      "\n",
      " Matriz dos termos independentes:\n",
      "               0\n",
      "0  -1.558008e+03\n",
      "1  -1.651712e+04\n",
      "2  -2.929329e+05\n",
      "3  -6.180823e+06\n",
      "4  -1.432076e+08\n",
      "5  -3.523966e+09\n",
      "6  -9.048109e+10\n",
      "7  -2.398209e+12\n",
      "8  -6.515463e+13\n",
      "9  -1.805429e+15\n",
      "10 -5.084151e+16\n",
      "11 -1.451013e+18\n",
      "12 -4.188111e+19\n",
      "13 -1.220483e+21\n",
      "14 -3.586137e+22\n",
      "15 -1.061274e+24\n"
     ]
    }
   ],
   "source": [
    "matriz_coef = np.zeros([16,16])\n",
    "matriz_indep = np.zeros([16,1])\n",
    "for i in range(0,16):\n",
    "    for j in range (0,16):\n",
    "        for k in range (2,17):\n",
    "            matriz_coef[i,j] += legendre_pol(i, k)*legendre_pol(j, k)\n",
    "            matriz_indep[i,0] += legendre_pol(i, k)*(erros_simp_10_5[k])\n",
    "Df_Mcoef = pd.DataFrame(matriz_coef)\n",
    "Df_Mindep = pd.DataFrame(matriz_indep)\n",
    "print(\"Matriz dos coeficientes:\")\n",
    "print (Df_Mcoef)\n",
    "print(\"\\n Matriz dos termos independentes:\")\n",
    "print(Df_Mindep)"
   ]
  },
  {
   "cell_type": "markdown",
   "metadata": {},
   "source": [
    "Exercício 1\n",
    "Tarefa 4\n",
    "Item 2"
   ]
  },
  {
   "cell_type": "code",
   "execution_count": 97,
   "metadata": {},
   "outputs": [],
   "source": [
    "# Função que executa o método da Eliminação de Gauss para um sistema genérico\n",
    "def EliminacaoDeGauss(coeff, resultado):    \n",
    "    \n",
    "    # Checa se o sistema não tem mais     \n",
    "    m, n = coeff.shape \n",
    "    if ( m < n ):\n",
    "        print(\"Não há soluções únicas\")\n",
    "    else:\n",
    "        \n",
    "        # Matriz auxiliar de 0s para construção de matriz escalonada        \n",
    "        l = np.zeros((n,n))\n",
    "        \n",
    "        # Checa se há algum 0 na diagonal da matriz de coeficientesz        \n",
    "        for i in range(n):\n",
    "            if (coeff[i][i] == 0):\n",
    "                print(\"Sistema impossível\")\n",
    "        \n",
    "        # Iteração para aplicação do método        \n",
    "        for k in range(n - 1):         \n",
    "            for i in range(k + 1, n):\n",
    "                # Razão entre os coeficientes                \n",
    "                l[i][k] = coeff[i][k] / coeff[k][k]         \n",
    "                for j in range(m):\n",
    "                    # Coeficiente para eliminar a linha                     \n",
    "                    coeff[i][j] = coeff[i][j] - l[i][k] * coeff[k][j]\n",
    "                # Mesma soma no vetor de termos independentes                \n",
    "                resultado[i] = resultado[i] - l[i][k] * resultado[k]\n",
    "        \n",
    "        # Vetor de soluções a ser preenchido                  \n",
    "        x = np.zeros(n)                                            \n",
    "        x[n - 1] = resultado[n - 1] / coeff[n - 1][n - 1]  \n",
    "\n",
    "        # Preenchimento dos resultados de trás para frente (Somando os resultados anteriores)\n",
    "        for i in range(n - 2, -1, -1):             \n",
    "            for j in range(i + 1, n):\n",
    "                resultado[i] -= coeff[i][j] * x[j] \n",
    "            x[i] = resultado[i] / coeff[i][i]\n",
    "            \n",
    "        return x\n",
    "    \n"
   ]
  },
  {
   "cell_type": "code",
   "execution_count": 104,
   "metadata": {},
   "outputs": [
    {
     "name": "stdout",
     "output_type": "stream",
     "text": [
      "α_1 = 845077615319.0846\n",
      "α_2 = 116920021343.2258\n",
      "α_3 = -16248348823.702839\n",
      "α_4 = 1176669597.0555415\n",
      "α_5 = -53924229.53877796\n",
      "α_6 = 1717174.0043179507\n",
      "α_7 = -40044.18755205944\n",
      "α_8 = 704.8509396038254\n",
      "α_9 = -9.515334493965478\n",
      "α_10 = 0.09940210806810618\n",
      "α_11 = -0.0008140189489535309\n",
      "α_12 = 5.286820505794087e-06\n",
      "α_13 = -2.5571263859633762e-08\n",
      "α_14 = 8.175230541119064e-11\n",
      "α_15 = -3.1413394832031384e-13\n",
      "α_16 = 4.2699659528734087e-16\n"
     ]
    }
   ],
   "source": [
    "result_alfa = EliminacaoDeGauss(matriz_coef, matriz_indep)\n",
    "for i in range(1,17):\n",
    "    print(f'α_{i} = {result_alfa[i-1]}')"
   ]
  }
 ],
 "metadata": {
  "kernelspec": {
   "display_name": "Python 3",
   "language": "python",
   "name": "python3"
  },
  "language_info": {
   "codemirror_mode": {
    "name": "ipython",
    "version": 3
   },
   "file_extension": ".py",
   "mimetype": "text/x-python",
   "name": "python",
   "nbconvert_exporter": "python",
   "pygments_lexer": "ipython3",
   "version": "3.6.13"
  }
 },
 "nbformat": 4,
 "nbformat_minor": 2
}
